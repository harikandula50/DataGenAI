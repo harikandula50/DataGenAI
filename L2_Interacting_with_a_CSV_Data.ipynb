{
 "cells": [
  {
   "cell_type": "markdown",
   "id": "d792f35b",
   "metadata": {},
   "source": [
    "# Lesson 2: Interacting with a CSV Data"
   ]
  },
  {
   "cell_type": "markdown",
   "id": "6be6d049",
   "metadata": {},
   "source": [
    "## Setup and connect to the Azure OpenAI endpoint"
   ]
  },
  {
   "cell_type": "markdown",
   "id": "399c89a2",
   "metadata": {},
   "source": [
    "**Note**: The pre-configured cloud resource grants you access to the Azure OpenAI GPT model. The key and endpoint provided below are intended for teaching purposes only. Your notebook environment is already set up with the necessary keys, which may differ from those used by the instructor during the filming."
   ]
  },
  {
   "cell_type": "code",
   "execution_count": 3,
   "id": "83ac3e59-d0d1-4110-a059-3a55d0d5e15e",
   "metadata": {
    "height": 217
   },
   "outputs": [],
   "source": [
    "import os \n",
    "import pandas as pd\n",
    "from IPython.display import Markdown, HTML, display\n",
    "from langchain.schema import HumanMessage\n",
    "from langchain_openai import ChatOpenAI  # Changed from AzureChatOpenAI\n",
    "\n",
    "model = ChatOpenAI(\n",
    "    model_name=\"gpt-3.5-turbo-0125\",  # or \"gpt-4\" depending on your access\n",
    "    api_key=os.getenv(\"OPENAI_API_KEY\"),  # Make sure you have set this environment variable\n",
    "    #temperature=2\n",
    ")"
   ]
  },
  {
   "cell_type": "markdown",
   "id": "ba9075a3",
   "metadata": {},
   "source": [
    "## Load the dataset"
   ]
  },
  {
   "cell_type": "markdown",
   "id": "fb0dc855",
   "metadata": {},
   "source": [
    "**Note**: To access the data locally, use the following code:\n",
    "\n",
    "```\n",
    "os.makedirs(\"data\",exist_ok=True)\n",
    "!wget https://covidtracking.com/data/download/all-states-history.csv -P ./data/\n",
    "file_url = \"./data/all-states-history.csv\"\n",
    "df = pd.read_csv(file_url).fillna(value = 0)\n",
    "```"
   ]
  },
  {
   "cell_type": "code",
   "execution_count": null,
   "id": "b6c75799-55e2-4d39-a1ab-7b968b4f35a4",
   "metadata": {
    "height": 30
   },
   "outputs": [],
   "source": [
    "df = pd.read_csv(\"C:/Users/harik/filename.CSV\").fillna(value = 0)"
   ]
  },
  {
   "cell_type": "markdown",
   "id": "a6a261ac",
   "metadata": {},
   "source": [
    "# Prepare the Langchain dataframe agent"
   ]
  },
  {
   "cell_type": "code",
   "execution_count": null,
   "id": "60d0793b-90e7-4e8b-b2f1-66a8d1cf652d",
   "metadata": {
    "height": 115
   },
   "outputs": [],
   "source": [
    "# Prepare the Langchain dataframe agent\n",
    "from langchain.agents.agent_types import AgentType\n",
    "from langchain_experimental.agents.agent_toolkits import create_pandas_dataframe_agent\n",
    "\n",
    "agent = create_pandas_dataframe_agent(\n",
    "    llm=model,\n",
    "    df=df,\n",
    "    verbose=True,\n",
    "    allow_dangerous_code=True  # Added this parameter to allow code execution\n",
    ")\n",
    "\n",
    "agent.invoke(\"how many rows are there?\")"
   ]
  },
  {
   "cell_type": "markdown",
   "id": "7c6dedce",
   "metadata": {},
   "source": [
    "## Design your prompt and ask your question"
   ]
  },
  {
   "cell_type": "code",
   "execution_count": null,
   "id": "0d005008-bad6-4458-90ec-6372d9ebe61c",
   "metadata": {
    "height": 523
   },
   "outputs": [],
   "source": [
    "'''\n",
    "CSV_PROMPT_PREFIX = \"\"\"\n",
    "First set the pandas display options to show all the columns,\n",
    "get the column names, then answer the question.\n",
    "\"\"\"\n",
    "\n",
    "CSV_PROMPT_SUFFIX = \"\"\"\n",
    "- **DO NOT MAKE UP AN ANSWER OR USE PRIOR KNOWLEDGE,\n",
    "ONLY USE THE RESULTS OF THE CALCULATIONS YOU HAVE DONE**.\n",
    "- **ALWAYS** explain how you got\n",
    "to the answer on a section that starts with: \"\\n\\nExplanation:\\n\".\n",
    "In the explanation, mention the column names that you used to get\n",
    "to the final answer.\n",
    "\"\"\"\n",
    "'''\n",
    "\n",
    "QUESTION = \"what is the profit during year 2024?\"\n",
    "\n",
    "# agent.invoke(CSV_PROMPT_PREFIX + QUESTION + CSV_PROMPT_SUFFIX)\n",
    "agent.invoke(QUESTION)"
   ]
  }
 ],
 "metadata": {
  "kernelspec": {
   "display_name": "Python 3",
   "language": "python",
   "name": "python3"
  },
  "language_info": {
   "codemirror_mode": {
    "name": "ipython",
    "version": 3
   },
   "file_extension": ".py",
   "mimetype": "text/x-python",
   "name": "python",
   "nbconvert_exporter": "python",
   "pygments_lexer": "ipython3",
   "version": "3.13.2"
  }
 },
 "nbformat": 4,
 "nbformat_minor": 5
}
